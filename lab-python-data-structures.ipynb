{
 "cells": [
  {
   "cell_type": "markdown",
   "metadata": {
    "tags": []
   },
   "source": [
    "# Lab | Data Structures "
   ]
  },
  {
   "cell_type": "markdown",
   "metadata": {},
   "source": [
    "## Exercise: Managing Customer Orders\n",
    "\n",
    "As part of a business venture, you are starting an online store that sells various products. To ensure smooth operations, you need to develop a program that manages customer orders and inventory.\n",
    "\n",
    "Follow the steps below to complete the exercise:\n",
    "\n",
    "1. Define a list called `products` that contains the following items: \"t-shirt\", \"mug\", \"hat\", \"book\", \"keychain\".\n",
    "\n",
    "2. Create an empty dictionary called `inventory`.\n",
    "\n",
    "3. Ask the user to input the quantity of each product available in the inventory. Use the product names from the `products` list as keys in the `inventory` dictionary and assign the respective quantities as values.\n",
    "\n",
    "4. Create an empty set called `customer_orders`.\n",
    "\n",
    "5. Ask the user to input the name of three products that a customer wants to order (from those in the products list, meaning three products out of \"t-shirt\", \"mug\", \"hat\", \"book\" or \"keychain\". Add each product name to the `customer_orders` set.\n",
    "\n",
    "6. Print the products in the `customer_orders` set.\n",
    "\n",
    "7. Calculate the following order statistics:\n",
    "   - Total Products Ordered: The total number of products in the `customer_orders` set.\n",
    "   - Percentage of Products Ordered: The percentage of products ordered compared to the total available products.\n",
    "   \n",
    "   Store these statistics in a tuple called `order_status`.\n",
    "\n",
    "8. Print the order statistics using the following format:\n",
    "   ```\n",
    "   Order Statistics:\n",
    "   Total Products Ordered: <total_products_ordered>\n",
    "   Percentage of Products Ordered: <percentage_ordered>% \n",
    "   ```\n",
    "\n",
    "9. Update the inventory by subtracting 1 from the quantity of each product. Modify the `inventory` dictionary accordingly.\n",
    "\n",
    "10. Print the updated inventory, displaying the quantity of each product on separate lines.\n",
    "\n",
    "Solve the exercise by implementing the steps using the Python concepts of lists, dictionaries, sets, and basic input/output operations. "
   ]
  },
  {
   "cell_type": "code",
   "execution_count": 3,
   "metadata": {},
   "outputs": [],
   "source": [
    "#1\n",
    "\n",
    "products = [\"t-shirt\", \"mug\", \"hat\", \"book\", \"keychain\"]"
   ]
  },
  {
   "cell_type": "code",
   "execution_count": 4,
   "metadata": {},
   "outputs": [],
   "source": [
    "#2\n",
    "\n",
    "inventory = {}"
   ]
  },
  {
   "cell_type": "code",
   "execution_count": 6,
   "metadata": {},
   "outputs": [],
   "source": [
    "\n",
    "#3\n",
    "\n",
    "quantity = int(input(\"Enter the quantity of t-shirts available: \"))\n",
    "inventory[\"t-shirt\"] = quantity\n",
    "\n",
    "quantity = int(input(\"Enter the quantity of mugs available: \"))\n",
    "inventory[\"mug\"] = quantity\n",
    "\n",
    "quantity = int(input(\"Enter the quantity of hats available: \"))\n",
    "inventory[\"hat\"] = quantity\n",
    "\n",
    "quantity = int(input(\"Enter the quantity of books available: \"))\n",
    "inventory[\"book\"] = quantity\n",
    "\n",
    "quantity = int(input(\"Enter the quantity of keychain available: \"))\n",
    "inventory[\"keychain\"] = quantity"
   ]
  },
  {
   "cell_type": "code",
   "execution_count": 7,
   "metadata": {},
   "outputs": [],
   "source": [
    "#4\n",
    "\n",
    "customer_orders = set()"
   ]
  },
  {
   "cell_type": "code",
   "execution_count": 8,
   "metadata": {},
   "outputs": [],
   "source": [
    "\n",
    "#5\n",
    "\n",
    "product_choice = input(\"Enter the first product that you want to order: \")\n",
    "customer_orders.add(product_choice)\n",
    "\n",
    "product_choice = input(\"Enter the second product that you want to order: \")\n",
    "customer_orders.add(product_choice)\n",
    "\n",
    "product_choice = input(\"Enter the third product that you want to order: \")\n",
    "customer_orders.add(product_choice)\n"
   ]
  },
  {
   "cell_type": "code",
   "execution_count": 9,
   "metadata": {},
   "outputs": [
    {
     "name": "stdout",
     "output_type": "stream",
     "text": [
      "The products that you ordered are:  {'book', 'mug', 'hat'}\n"
     ]
    }
   ],
   "source": [
    "#6\n",
    "\n",
    "print(\"The products that you ordered are: \", customer_orders)"
   ]
  },
  {
   "cell_type": "code",
   "execution_count": 10,
   "metadata": {},
   "outputs": [],
   "source": [
    "#7\n",
    "\n",
    "total_products_ordered = len(customer_orders)\n",
    "percentage_products_ordered = (len(customer_orders) / sum(inventory.values())) * 100\n",
    "                                \n",
    "order_status = (total_products_ordered, percentage_products_ordered)"
   ]
  },
  {
   "cell_type": "code",
   "execution_count": 11,
   "metadata": {},
   "outputs": [
    {
     "name": "stdout",
     "output_type": "stream",
     "text": [
      "Order Statistics:\n",
      "Total Products Ordered: 3\n",
      "Percentage of Products Ordered: 1.744186046511628\n"
     ]
    }
   ],
   "source": [
    "#8\n",
    "\n",
    "print(\"Order Statistics:\")\n",
    "print(\"Total Products Ordered:\", total_products_ordered)\n",
    "print(\"Percentage of Products Ordered:\", percentage_products_ordered)"
   ]
  },
  {
   "cell_type": "code",
   "execution_count": 12,
   "metadata": {},
   "outputs": [],
   "source": [
    "#9\n",
    "\n",
    "inventory[\"t-shirt\"] -= 1\n",
    "inventory[\"mug\"] -= 1\n",
    "inventory[\"hat\"] -= 1\n",
    "inventory[\"book\"] -= 1\n",
    "inventory[\"keychain\"] -= 1"
   ]
  },
  {
   "cell_type": "code",
   "execution_count": 13,
   "metadata": {},
   "outputs": [
    {
     "name": "stdout",
     "output_type": "stream",
     "text": [
      "T-shirts Availabes:  122\n",
      "Mugs Availabes:  22\n",
      "Hats Availabes:  12\n",
      "Books Availabes:  11\n",
      "Keychains Availabes:  0\n"
     ]
    }
   ],
   "source": [
    "#10\n",
    "\n",
    "print(\"T-shirts Availabes: \", inventory[\"t-shirt\"])\n",
    "print(\"Mugs Availabes: \", inventory[\"mug\"])\n",
    "print(\"Hats Availabes: \", inventory[\"hat\"])\n",
    "print(\"Books Availabes: \", inventory[\"book\"])\n",
    "print(\"Keychains Availabes: \", inventory[\"keychain\"])"
   ]
  }
 ],
 "metadata": {
  "kernelspec": {
   "display_name": "Python 3 (ipykernel)",
   "language": "python",
   "name": "python3"
  },
  "language_info": {
   "codemirror_mode": {
    "name": "ipython",
    "version": 3
   },
   "file_extension": ".py",
   "mimetype": "text/x-python",
   "name": "python",
   "nbconvert_exporter": "python",
   "pygments_lexer": "ipython3",
   "version": "3.12.3"
  }
 },
 "nbformat": 4,
 "nbformat_minor": 4
}
